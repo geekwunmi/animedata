{
 "cells": [
  {
   "cell_type": "code",
   "execution_count": 4,
   "id": "125e8da3",
   "metadata": {},
   "outputs": [],
   "source": [
    "import pandas as pd\n",
    "import math as mt\n",
    "import seaborn as sns\n",
    "import numpy as np\n",
    "import datetime as dt\n",
    "import random\n",
    "import matplotlib.pyplot as plt\n",
    "from scipy import stats as sta\n",
    "# import streamlit as st"
   ]
  },
  {
   "cell_type": "code",
   "execution_count": 7,
   "id": "8693d097",
   "metadata": {},
   "outputs": [
    {
     "name": "stdout",
     "output_type": "stream",
     "text": [
      "   Unnamed: 0     id                                        name  season  \\\n",
      "0           0  41467                   Bleach: Sennen Kessen-hen    fall   \n",
      "1           1  43608  Kaguya-sama wa Kokurasetai: Ultra Romantic  spring   \n",
      "2           2  42938                    Fruits Basket: The Final  spring   \n",
      "3           3  51009                   Jujutsu Kaisen 2nd Season  summer   \n",
      "4           4  40682                          Kingdom 3rd Season  spring   \n",
      "\n",
      "   score  year                                               link  \\\n",
      "0   9.03  2022  https://myanimelist.net/anime/41467/Bleach__Se...   \n",
      "1   9.02  2022  https://myanimelist.net/anime/43608/Kaguya-sam...   \n",
      "2   8.98  2021  https://myanimelist.net/anime/42938/Fruits_Bas...   \n",
      "3   8.87  2023  https://myanimelist.net/anime/51009/Jujutsu_Ka...   \n",
      "4   8.82  2020  https://myanimelist.net/anime/40682/Kingdom_3r...   \n",
      "\n",
      "                                               image  \\\n",
      "0  https://cdn.myanimelist.net/images/anime/1908/...   \n",
      "1  https://cdn.myanimelist.net/images/anime/1160/...   \n",
      "2  https://cdn.myanimelist.net/images/anime/1085/...   \n",
      "3  https://cdn.myanimelist.net/images/anime/1792/...   \n",
      "4  https://cdn.myanimelist.net/images/anime/1443/...   \n",
      "\n",
      "                          genre  \\\n",
      "0    Action, Adventure, Fantasy   \n",
      "1               Comedy, Romance   \n",
      "2  Drama, Romance, Supernatural   \n",
      "3               Action, Fantasy   \n",
      "4                        Action   \n",
      "\n",
      "                                           producers  ...  \\\n",
      "0                TV Tokyo, Aniplex, Dentsu, Shueisha  ...   \n",
      "1  Aniplex, Mainichi Broadcasting System, Magic C...  ...   \n",
      "2  TV Tokyo, TV Osaka, Nihon Ad Systems, Hakusens...  ...   \n",
      "3  Mainichi Broadcasting System, TOHO animation, ...  ...   \n",
      "4                                           Shueisha  ...   \n",
      "\n",
      "                  start_date                   end_date  \\\n",
      "0  2022-10-11T00:00:00+00:00  2022-12-27T00:00:00+00:00   \n",
      "1  2022-04-09T00:00:00+00:00  2022-06-25T00:00:00+00:00   \n",
      "2  2021-04-06T00:00:00+00:00  2021-06-29T00:00:00+00:00   \n",
      "3  2023-07-06T00:00:00+00:00  2023-12-28T00:00:00+00:00   \n",
      "4  2020-04-06T00:00:00+00:00  2021-10-17T00:00:00+00:00   \n",
      "\n",
      "                   studios source                themes       duration rank  \\\n",
      "0                  Pierrot  Manga                   NaN  24 min per ep    8   \n",
      "1             A-1 Pictures  Manga                School  23 min per ep   12   \n",
      "2        TMS Entertainment  Manga                   NaN  23 min per ep   13   \n",
      "3                    MAPPA  Manga          Gore, School  23 min per ep   25   \n",
      "4  Pierrot,Studio Signpost  Manga  Historical, Military  25 min per ep   28   \n",
      "\n",
      "   popularity  favorites  demographics  \n",
      "0         419      20105       Shounen  \n",
      "1         183      30776        Seinen  \n",
      "2         476      19780        Shoujo  \n",
      "3         211      18584       Shounen  \n",
      "4        2054       2035        Seinen  \n",
      "\n",
      "[5 rows x 21 columns]\n"
     ]
    }
   ],
   "source": [
    "anime = pd.read_csv(r\"C:\\Users\\Ade\\Desktop\\Personal\\Python\\ProjectPortfolio\\animedashboard\\animefile202402150150.csv\")\n",
    "anime_df = pd.DataFrame(anime)\n",
    "print(anime_df.head(5)) "
   ]
  },
  {
   "cell_type": "code",
   "execution_count": null,
   "id": "7080a3eb",
   "metadata": {},
   "outputs": [],
   "source": [
    "# aggreggate data to segments of interest\n",
    "sum_df = df.groupby([\"abtest_group\"], as_index = False).sum(['player_acq','purchases','gameeends', 'days_till_first_purchases', 'active_players'\n",
    "                                                             \"paying_player\"])\n",
    "\n",
    "sum_df['payer_purchases_ltd'] = sum_df['purchases'] / sum_df['converted_players']\n",
    "sum_df['games_per_player'] = sum_df['gameends'] / sum_df['player_acq']\n",
    "sum_df['fp_days_per_payer'] = sum_df['days_till_first_purchases'] / sum_df['converted_players']\n",
    "sum_df['player_activity'] = sum_df['active_players'] / sum_df['player_acq']\n",
    "sum_df['conversion_ltd'] = sum_df['converted_players'] / sum_df['player_acq']\n",
    "sum_df['conversion'] = sum_df['paying_player'] / sum_df['active_players']\n",
    "\n",
    "\n",
    "# print(sum_df)\n",
    "print(df.columns)\n",
    "ax = sns.barplot(x = 'abtest_group', y  = 'conversion', data = sum_df)\n",
    "ax.tick_params(axis='x', rotation=0)\n",
    "ax.bar_label(ax.containers[0], fontsize=10)"
   ]
  },
  {
   "cell_type": "code",
   "execution_count": null,
   "id": "b4361f55",
   "metadata": {},
   "outputs": [],
   "source": [
    "# segment dataset into relevant groups\n",
    "sum_a_dfg = sum_df[sum_df[\"abtest_group\"] == 'A']\n",
    "sum_b_dfg = sum_df[sum_df[\"abtest_group\"] == 'B']\n",
    "print(sum_b_dfg)\n",
    "print(sum_a_dfg)"
   ]
  },
  {
   "cell_type": "code",
   "execution_count": null,
   "id": "6bcb40b2",
   "metadata": {},
   "outputs": [],
   "source": [
    "# create observable difference between averages to test for p value if needed\n",
    "\n",
    "sum_a_pact = sum_a_dfg[\"conversion\"].astype(float)\n",
    "sum_b_pact = sum_b_dfg[\"conversion\"].astype(float)\n",
    "sum_b_pact = sum_b_pact.squeeze()\n",
    "sum_a_pact = sum_a_pact.squeeze()\n",
    "\n",
    "diff2 = sum_a_pact - sum_b_pact\n",
    "diff =  sum_b_pact.astype(float)\n",
    "obs_pct_diff = diff2 *100\n",
    "\n",
    "print( f'{abs(obs_pct_diff)}')\n",
    "# print(diff)"
   ]
  },
  {
   "cell_type": "code",
   "execution_count": null,
   "id": "07cc92ed",
   "metadata": {},
   "outputs": [],
   "source": [
    "#aggregate data between segements to get average values of occcurence\n",
    "df.replace([np.inf, -np.inf], np.nan, inplace=True)\n",
    "\n",
    "df_a = df[df['abtest_group'] == 'A']\n",
    "df_b = df[df['abtest_group'] == 'B']\n",
    "\n",
    "a = df_a['purchases_per_player'].mean()\n",
    "b = df_b['purchases_per_player'].mean()\n",
    "\n",
    "print(b-a)\n",
    "\n",
    "nA = df[df['abtest_group'] == 'A'].shape[0]\n",
    "nB = df[df['abtest_group'] == 'B'].shape[0]\n",
    "\n",
    "print(nB,nA)\n",
    "# print(df)"
   ]
  },
  {
   "cell_type": "code",
   "execution_count": null,
   "id": "ba56f5a2",
   "metadata": {},
   "outputs": [],
   "source": [
    "# create function to iterate through combinates of average differences\n",
    "def perm_fun(x, nA, nB):\n",
    "    n = nA + nB\n",
    "    idx_B = set(random.sample(range(n), nB))\n",
    "    idx_A = set(range(n)) - idx_B\n",
    "    return x.iloc[list(idx_B)].mean() - x.iloc[list(idx_A)].mean()"
   ]
  },
  {
   "cell_type": "code",
   "execution_count": null,
   "id": "b34f5431",
   "metadata": {},
   "outputs": [],
   "source": [
    "# identify different permutations of average differences with respect to dataframe shape\n",
    "\n",
    "R = 5000\n",
    "\n",
    "df = df.reset_index(drop=True) \n",
    "perm_diff = perm_fun(df.get('purchases_per_payer'), nA, nB)\n",
    "perm_diffs = [100 * perm_fun(df['purchases_per_payer'], nA, nB) for x in range(R)]\n",
    "\n",
    "print(perm_diff)\n",
    "print (b - a)"
   ]
  },
  {
   "cell_type": "code",
   "execution_count": null,
   "id": "eabe5f2b",
   "metadata": {},
   "outputs": [],
   "source": [
    "# identify iterated differences greater than identified difference between average of both segments\n",
    "\n",
    "perm_diffs = np.array(perm_diffs)\n",
    "print(np.mean(perm_diffs > b - a))\n",
    "dif = b-a\n",
    "print(dif)"
   ]
  },
  {
   "cell_type": "code",
   "execution_count": null,
   "id": "a83adb72",
   "metadata": {},
   "outputs": [],
   "source": [
    "# visualise using histogram occurnce of segment difference being due to chance\n",
    "plt.hist(perm_diffs, bins=15)\n",
    "plt.axvline(dif, color='black', lw=2)\n",
    "plt.text(dif, 200, 'Observed\\ndifference',bbox={'facecolor':'white'})\n",
    "plt.xlabel('purchases_per_payer')\n",
    "plt.ylabel('Frequency')\n",
    "\n",
    "np.mean(np.array(perm_diffs) > b - a)"
   ]
  },
  {
   "cell_type": "code",
   "execution_count": null,
   "id": "fe05bdeb",
   "metadata": {},
   "outputs": [],
   "source": [
    "print('profit')"
   ]
  },
  {
   "cell_type": "code",
   "execution_count": 43,
   "id": "b2b1ea13",
   "metadata": {},
   "outputs": [
    {
     "name": "stdout",
     "output_type": "stream",
     "text": [
      "Index(['Unnamed: 0', 'id', 'name', 'season', 'score', 'year', 'link', 'image',\n",
      "       'genre', 'producers', 'members', 'start_date', 'end_date', 'studios',\n",
      "       'source', 'themes', 'duration', 'rank', 'popularity', 'favorites',\n",
      "       'demographics'],\n",
      "      dtype='object')\n"
     ]
    }
   ],
   "source": [
    "# sns.boxplot(x = 'id', y = 'start_date', data = anime_df_2023)\n",
    "column_list = anime_df_2023.columns\n",
    "anime_df_2023_agg = anime_df_2023.groupby(['demographics','season','studios','year']).agg({'id':'nunique'\n",
    "                                                                                ,'score':'sum'\n",
    "                                                                                ,'members':'sum'\n",
    "                                                                                ,'popularity':'sum'\n",
    "                                                                                ,'favorites':'sum'\n",
    "                                                                               })\n",
    "print(column_list)"
   ]
  },
  {
   "cell_type": "code",
   "execution_count": 2,
   "id": "2473230f-0f18-4a40-b7dc-a0d98178254f",
   "metadata": {},
   "outputs": [],
   "source": [
    "# anime_df_2023.astype({'start_date': 'datetime64[ns]'})\n",
    "# anime_df_2023['start_date'].tz_convert(None)\n",
    "# anime_df_2023['start_date_cl'] = anime_df_2023['start_date'].dt.year"
   ]
  },
  {
   "cell_type": "code",
   "execution_count": 1,
   "id": "37bae904",
   "metadata": {},
   "outputs": [],
   "source": [
    "# anime_df_2023['demographics'].\n",
    "# demograph_2023 = pd.pivot_table(anime_df_2023, values = 'score', index = 'id', columns = 'demographics').reset_index()\n",
    "# dem_column_list = list(demograph_2023.columns)\n",
    "# print(demograph_2023.head(3))\n",
    "# sta.trim_mean(demograph_2023[dem_column_list],0.05)\n",
    "# sta.trim_mean(demograph_2023['Josei'],0.1)"
   ]
  },
  {
   "cell_type": "code",
   "execution_count": 6,
   "id": "0a0d5dc8",
   "metadata": {},
   "outputs": [],
   "source": [
    "# anime_df_2023 = anime_df[anime_df['year'] == 2023]\n",
    "# anime_df_2022 = anime_df[anime_df['year'] == 2022]\n",
    "# anime_df_2021 = anime_df[anime_df['year'] == 2021]\n",
    "# anime_df_2020 = anime_df[anime_df['year'] == 2020]"
   ]
  }
 ],
 "metadata": {
  "kernelspec": {
   "display_name": "Python 3 (ipykernel)",
   "language": "python",
   "name": "python3"
  },
  "language_info": {
   "codemirror_mode": {
    "name": "ipython",
    "version": 3
   },
   "file_extension": ".py",
   "mimetype": "text/x-python",
   "name": "python",
   "nbconvert_exporter": "python",
   "pygments_lexer": "ipython3",
   "version": "3.9.18"
  }
 },
 "nbformat": 4,
 "nbformat_minor": 5
}
