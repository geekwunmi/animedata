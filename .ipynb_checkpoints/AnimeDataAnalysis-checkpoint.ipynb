{
 "cells": [
  {
   "cell_type": "code",
   "execution_count": 67,
   "id": "125e8da3",
   "metadata": {},
   "outputs": [],
   "source": [
    "import pandas as pd\n",
    "import seaborn as sns\n",
    "import numpy as np\n",
    "import time\n",
    "from scipy import stats as sta\n",
    "# import streamlit as st"
   ]
  },
  {
   "cell_type": "code",
   "execution_count": 5,
   "id": "8693d097",
   "metadata": {},
   "outputs": [
    {
     "name": "stdout",
     "output_type": "stream",
     "text": [
      "   Unnamed: 0     id                                        name  season  \\\n",
      "0           0  41467                   Bleach: Sennen Kessen-hen    fall   \n",
      "1           1  43608  Kaguya-sama wa Kokurasetai: Ultra Romantic  spring   \n",
      "2           2  42938                    Fruits Basket: The Final  spring   \n",
      "3           3  51009                   Jujutsu Kaisen 2nd Season  summer   \n",
      "4           4  40682                          Kingdom 3rd Season  spring   \n",
      "\n",
      "   score  year                                               link  \\\n",
      "0   9.03  2022  https://myanimelist.net/anime/41467/Bleach__Se...   \n",
      "1   9.02  2022  https://myanimelist.net/anime/43608/Kaguya-sam...   \n",
      "2   8.98  2021  https://myanimelist.net/anime/42938/Fruits_Bas...   \n",
      "3   8.87  2023  https://myanimelist.net/anime/51009/Jujutsu_Ka...   \n",
      "4   8.82  2020  https://myanimelist.net/anime/40682/Kingdom_3r...   \n",
      "\n",
      "                                               image  \\\n",
      "0  https://cdn.myanimelist.net/images/anime/1908/...   \n",
      "1  https://cdn.myanimelist.net/images/anime/1160/...   \n",
      "2  https://cdn.myanimelist.net/images/anime/1085/...   \n",
      "3  https://cdn.myanimelist.net/images/anime/1792/...   \n",
      "4  https://cdn.myanimelist.net/images/anime/1443/...   \n",
      "\n",
      "                          genre  \\\n",
      "0    Action, Adventure, Fantasy   \n",
      "1               Comedy, Romance   \n",
      "2  Drama, Romance, Supernatural   \n",
      "3               Action, Fantasy   \n",
      "4                        Action   \n",
      "\n",
      "                                           producers  ...  \\\n",
      "0                TV Tokyo, Aniplex, Dentsu, Shueisha  ...   \n",
      "1  Aniplex, Mainichi Broadcasting System, Magic C...  ...   \n",
      "2  TV Tokyo, TV Osaka, Nihon Ad Systems, Hakusens...  ...   \n",
      "3  Mainichi Broadcasting System, TOHO animation, ...  ...   \n",
      "4                                           Shueisha  ...   \n",
      "\n",
      "                  start_date                   end_date  \\\n",
      "0  2022-10-11T00:00:00+00:00  2022-12-27T00:00:00+00:00   \n",
      "1  2022-04-09T00:00:00+00:00  2022-06-25T00:00:00+00:00   \n",
      "2  2021-04-06T00:00:00+00:00  2021-06-29T00:00:00+00:00   \n",
      "3  2023-07-06T00:00:00+00:00  2023-12-28T00:00:00+00:00   \n",
      "4  2020-04-06T00:00:00+00:00  2021-10-17T00:00:00+00:00   \n",
      "\n",
      "                   studios source                themes       duration rank  \\\n",
      "0                  Pierrot  Manga                   NaN  24 min per ep    8   \n",
      "1             A-1 Pictures  Manga                School  23 min per ep   12   \n",
      "2        TMS Entertainment  Manga                   NaN  23 min per ep   13   \n",
      "3                    MAPPA  Manga          Gore, School  23 min per ep   25   \n",
      "4  Pierrot,Studio Signpost  Manga  Historical, Military  25 min per ep   28   \n",
      "\n",
      "   popularity  favorites  demographics  \n",
      "0         419      20105       Shounen  \n",
      "1         183      30776        Seinen  \n",
      "2         476      19780        Shoujo  \n",
      "3         211      18584       Shounen  \n",
      "4        2054       2035        Seinen  \n",
      "\n",
      "[5 rows x 21 columns]\n"
     ]
    }
   ],
   "source": [
    "anime = pd.read_csv(r\"C:\\Users\\Ade\\Desktop\\Personal\\Python\\Project Portfolio\\animedashboard\\animefile202402150150.csv\")\n",
    "anime_df = pd.DataFrame(anime)\n",
    "print(anime_df.head(5))"
   ]
  },
  {
   "cell_type": "code",
   "execution_count": 6,
   "id": "0a0d5dc8",
   "metadata": {},
   "outputs": [],
   "source": [
    "anime_df_2023 = anime_df[anime_df['year'] == 2023]\n",
    "anime_df_2022 = anime_df[anime_df['year'] == 2022]\n",
    "anime_df_2021 = anime_df[anime_df['year'] == 2021]\n",
    "anime_df_2020 = anime_df[anime_df['year'] == 2020]"
   ]
  },
  {
   "cell_type": "code",
   "execution_count": 7,
   "id": "976ab4e0",
   "metadata": {},
   "outputs": [
    {
     "data": {
      "text/plain": [
       "pandas.core.frame.DataFrame"
      ]
     },
     "execution_count": 7,
     "metadata": {},
     "output_type": "execute_result"
    }
   ],
   "source": [
    "type(anime_df_2023)"
   ]
  },
  {
   "cell_type": "code",
   "execution_count": 43,
   "id": "b2b1ea13",
   "metadata": {},
   "outputs": [
    {
     "name": "stdout",
     "output_type": "stream",
     "text": [
      "Index(['Unnamed: 0', 'id', 'name', 'season', 'score', 'year', 'link', 'image',\n",
      "       'genre', 'producers', 'members', 'start_date', 'end_date', 'studios',\n",
      "       'source', 'themes', 'duration', 'rank', 'popularity', 'favorites',\n",
      "       'demographics'],\n",
      "      dtype='object')\n"
     ]
    }
   ],
   "source": [
    "# sns.boxplot(x = 'id', y = 'start_date', data = anime_df_2023)\n",
    "column_list = anime_df_2023.columns\n",
    "anime_df_2023_agg = anime_df_2023.groupby(['demographics','season','studios','year']).agg({'id':'nunique'\n",
    "                                                                                ,'score':'sum'\n",
    "                                                                                ,'members':'sum'\n",
    "                                                                                ,'popularity':'sum'\n",
    "                                                                                ,'favorites':'sum'\n",
    "                                                                               })\n",
    "print(column_list)"
   ]
  },
  {
   "cell_type": "code",
   "execution_count": 79,
   "id": "2473230f-0f18-4a40-b7dc-a0d98178254f",
   "metadata": {},
   "outputs": [
    {
     "ename": "TypeError",
     "evalue": "index is not a valid DatetimeIndex or PeriodIndex",
     "output_type": "error",
     "traceback": [
      "\u001b[1;31m---------------------------------------------------------------------------\u001b[0m",
      "\u001b[1;31mTypeError\u001b[0m                                 Traceback (most recent call last)",
      "\u001b[1;32m~\\AppData\\Local\\Temp\\ipykernel_16252\\1954127437.py\u001b[0m in \u001b[0;36m?\u001b[1;34m()\u001b[0m\n\u001b[1;32m----> 2\u001b[1;33m \u001b[1;31m# anime_df_2023.astype({'start_date': 'datetime64[ns]'})\u001b[0m\u001b[1;33m\u001b[0m\u001b[1;33m\u001b[0m\u001b[0m\n\u001b[0m\u001b[0;32m      3\u001b[0m \u001b[0manime_df_2023\u001b[0m\u001b[1;33m[\u001b[0m\u001b[1;34m'start_date'\u001b[0m\u001b[1;33m]\u001b[0m\u001b[1;33m.\u001b[0m\u001b[0mtz_convert\u001b[0m\u001b[1;33m(\u001b[0m\u001b[1;32mNone\u001b[0m\u001b[1;33m)\u001b[0m\u001b[1;33m\u001b[0m\u001b[1;33m\u001b[0m\u001b[0m\n\u001b[0;32m      4\u001b[0m \u001b[1;31m# anime_df_2023['start_date_cl'] = anime_df_2023['start_date'].dt.year\u001b[0m\u001b[1;33m\u001b[0m\u001b[1;33m\u001b[0m\u001b[0m\n",
      "\u001b[1;32m~\\anaconda3\\lib\\site-packages\\pandas\\core\\generic.py\u001b[0m in \u001b[0;36m?\u001b[1;34m(self, tz, axis, level, copy)\u001b[0m\n\u001b[0;32m  11115\u001b[0m             \u001b[0max\u001b[0m \u001b[1;33m=\u001b[0m \u001b[0max\u001b[0m\u001b[1;33m.\u001b[0m\u001b[0mset_levels\u001b[0m\u001b[1;33m(\u001b[0m\u001b[0mnew_level\u001b[0m\u001b[1;33m,\u001b[0m \u001b[0mlevel\u001b[0m\u001b[1;33m=\u001b[0m\u001b[0mlevel\u001b[0m\u001b[1;33m)\u001b[0m\u001b[1;33m\u001b[0m\u001b[1;33m\u001b[0m\u001b[0m\n\u001b[0;32m  11116\u001b[0m         \u001b[1;32melse\u001b[0m\u001b[1;33m:\u001b[0m\u001b[1;33m\u001b[0m\u001b[1;33m\u001b[0m\u001b[0m\n\u001b[0;32m  11117\u001b[0m             \u001b[1;32mif\u001b[0m \u001b[0mlevel\u001b[0m \u001b[1;32mnot\u001b[0m \u001b[1;32min\u001b[0m \u001b[1;33m(\u001b[0m\u001b[1;32mNone\u001b[0m\u001b[1;33m,\u001b[0m \u001b[1;36m0\u001b[0m\u001b[1;33m,\u001b[0m \u001b[0max\u001b[0m\u001b[1;33m.\u001b[0m\u001b[0mname\u001b[0m\u001b[1;33m)\u001b[0m\u001b[1;33m:\u001b[0m\u001b[1;33m\u001b[0m\u001b[1;33m\u001b[0m\u001b[0m\n\u001b[0;32m  11118\u001b[0m                 \u001b[1;32mraise\u001b[0m \u001b[0mValueError\u001b[0m\u001b[1;33m(\u001b[0m\u001b[1;34mf\"The level {level} is not valid\"\u001b[0m\u001b[1;33m)\u001b[0m\u001b[1;33m\u001b[0m\u001b[1;33m\u001b[0m\u001b[0m\n\u001b[1;32m> 11119\u001b[1;33m             \u001b[0max\u001b[0m \u001b[1;33m=\u001b[0m \u001b[0m_tz_convert\u001b[0m\u001b[1;33m(\u001b[0m\u001b[0max\u001b[0m\u001b[1;33m,\u001b[0m \u001b[0mtz\u001b[0m\u001b[1;33m)\u001b[0m\u001b[1;33m\u001b[0m\u001b[1;33m\u001b[0m\u001b[0m\n\u001b[0m\u001b[0;32m  11120\u001b[0m \u001b[1;33m\u001b[0m\u001b[0m\n\u001b[0;32m  11121\u001b[0m         \u001b[0mresult\u001b[0m \u001b[1;33m=\u001b[0m \u001b[0mself\u001b[0m\u001b[1;33m.\u001b[0m\u001b[0mcopy\u001b[0m\u001b[1;33m(\u001b[0m\u001b[0mdeep\u001b[0m\u001b[1;33m=\u001b[0m\u001b[0mcopy\u001b[0m \u001b[1;32mand\u001b[0m \u001b[1;32mnot\u001b[0m \u001b[0musing_copy_on_write\u001b[0m\u001b[1;33m(\u001b[0m\u001b[1;33m)\u001b[0m\u001b[1;33m)\u001b[0m\u001b[1;33m\u001b[0m\u001b[1;33m\u001b[0m\u001b[0m\n\u001b[0;32m  11122\u001b[0m         \u001b[0mresult\u001b[0m \u001b[1;33m=\u001b[0m \u001b[0mresult\u001b[0m\u001b[1;33m.\u001b[0m\u001b[0mset_axis\u001b[0m\u001b[1;33m(\u001b[0m\u001b[0max\u001b[0m\u001b[1;33m,\u001b[0m \u001b[0maxis\u001b[0m\u001b[1;33m=\u001b[0m\u001b[0maxis\u001b[0m\u001b[1;33m,\u001b[0m \u001b[0mcopy\u001b[0m\u001b[1;33m=\u001b[0m\u001b[1;32mFalse\u001b[0m\u001b[1;33m)\u001b[0m\u001b[1;33m\u001b[0m\u001b[1;33m\u001b[0m\u001b[0m\n",
      "\u001b[1;32m~\\anaconda3\\lib\\site-packages\\pandas\\core\\generic.py\u001b[0m in \u001b[0;36m?\u001b[1;34m(ax, tz)\u001b[0m\n\u001b[0;32m  11098\u001b[0m         \u001b[1;32mdef\u001b[0m \u001b[0m_tz_convert\u001b[0m\u001b[1;33m(\u001b[0m\u001b[0max\u001b[0m\u001b[1;33m,\u001b[0m \u001b[0mtz\u001b[0m\u001b[1;33m)\u001b[0m\u001b[1;33m:\u001b[0m\u001b[1;33m\u001b[0m\u001b[1;33m\u001b[0m\u001b[0m\n\u001b[0;32m  11099\u001b[0m             \u001b[1;32mif\u001b[0m \u001b[1;32mnot\u001b[0m \u001b[0mhasattr\u001b[0m\u001b[1;33m(\u001b[0m\u001b[0max\u001b[0m\u001b[1;33m,\u001b[0m \u001b[1;34m\"tz_convert\"\u001b[0m\u001b[1;33m)\u001b[0m\u001b[1;33m:\u001b[0m\u001b[1;33m\u001b[0m\u001b[1;33m\u001b[0m\u001b[0m\n\u001b[0;32m  11100\u001b[0m                 \u001b[1;32mif\u001b[0m \u001b[0mlen\u001b[0m\u001b[1;33m(\u001b[0m\u001b[0max\u001b[0m\u001b[1;33m)\u001b[0m \u001b[1;33m>\u001b[0m \u001b[1;36m0\u001b[0m\u001b[1;33m:\u001b[0m\u001b[1;33m\u001b[0m\u001b[1;33m\u001b[0m\u001b[0m\n\u001b[0;32m  11101\u001b[0m                     \u001b[0max_name\u001b[0m \u001b[1;33m=\u001b[0m \u001b[0mself\u001b[0m\u001b[1;33m.\u001b[0m\u001b[0m_get_axis_name\u001b[0m\u001b[1;33m(\u001b[0m\u001b[0maxis\u001b[0m\u001b[1;33m)\u001b[0m\u001b[1;33m\u001b[0m\u001b[1;33m\u001b[0m\u001b[0m\n\u001b[1;32m> 11102\u001b[1;33m                     raise TypeError(\n\u001b[0m\u001b[0;32m  11103\u001b[0m                         \u001b[1;34mf\"{ax_name} is not a valid DatetimeIndex or PeriodIndex\"\u001b[0m\u001b[1;33m\u001b[0m\u001b[1;33m\u001b[0m\u001b[0m\n\u001b[0;32m  11104\u001b[0m                     )\n\u001b[0;32m  11105\u001b[0m                 \u001b[0max\u001b[0m \u001b[1;33m=\u001b[0m \u001b[0mDatetimeIndex\u001b[0m\u001b[1;33m(\u001b[0m\u001b[1;33m[\u001b[0m\u001b[1;33m]\u001b[0m\u001b[1;33m,\u001b[0m \u001b[0mtz\u001b[0m\u001b[1;33m=\u001b[0m\u001b[0mtz\u001b[0m\u001b[1;33m)\u001b[0m\u001b[1;33m\u001b[0m\u001b[1;33m\u001b[0m\u001b[0m\n",
      "\u001b[1;31mTypeError\u001b[0m: index is not a valid DatetimeIndex or PeriodIndex"
     ]
    }
   ],
   "source": [
    "# anime_df_2023.astype({'start_date': 'datetime64[ns]'})\n",
    "anime_df_2023['start_date'].tz_convert(None)\n",
    "# anime_df_2023['start_date_cl'] = anime_df_2023['start_date'].dt.year"
   ]
  },
  {
   "cell_type": "code",
   "execution_count": 66,
   "id": "37bae904",
   "metadata": {},
   "outputs": [
    {
     "ename": "AttributeError",
     "evalue": "'DataFrame' object has no attribute 'show'",
     "output_type": "error",
     "traceback": [
      "\u001b[1;31m---------------------------------------------------------------------------\u001b[0m",
      "\u001b[1;31mAttributeError\u001b[0m                            Traceback (most recent call last)",
      "\u001b[1;32m~\\AppData\\Local\\Temp\\ipykernel_16252\\46621706.py\u001b[0m in \u001b[0;36m?\u001b[1;34m()\u001b[0m\n\u001b[1;32m----> 4\u001b[1;33m \u001b[1;31m# anime_df_2023['demographics'].\u001b[0m\u001b[1;33m\u001b[0m\u001b[1;33m\u001b[0m\u001b[0m\n\u001b[0m\u001b[0;32m      5\u001b[0m \u001b[0mdemograph_2023\u001b[0m \u001b[1;33m=\u001b[0m \u001b[0mpd\u001b[0m\u001b[1;33m.\u001b[0m\u001b[0mpivot_table\u001b[0m\u001b[1;33m(\u001b[0m\u001b[0manime_df_2023\u001b[0m\u001b[1;33m,\u001b[0m \u001b[0mvalues\u001b[0m \u001b[1;33m=\u001b[0m \u001b[1;34m'score'\u001b[0m\u001b[1;33m,\u001b[0m \u001b[0mindex\u001b[0m \u001b[1;33m=\u001b[0m \u001b[1;34m'id'\u001b[0m\u001b[1;33m,\u001b[0m \u001b[0mcolumns\u001b[0m \u001b[1;33m=\u001b[0m \u001b[1;34m'demographics'\u001b[0m\u001b[1;33m)\u001b[0m\u001b[1;33m.\u001b[0m\u001b[0mreset_index\u001b[0m\u001b[1;33m(\u001b[0m\u001b[1;33m)\u001b[0m\u001b[1;33m\u001b[0m\u001b[1;33m\u001b[0m\u001b[0m\n\u001b[0;32m      6\u001b[0m \u001b[0mdem_column_list\u001b[0m \u001b[1;33m=\u001b[0m \u001b[0mlist\u001b[0m\u001b[1;33m(\u001b[0m\u001b[0mdemograph_2023\u001b[0m\u001b[1;33m.\u001b[0m\u001b[0mcolumns\u001b[0m\u001b[1;33m)\u001b[0m\u001b[1;33m\u001b[0m\u001b[1;33m\u001b[0m\u001b[0m\n\u001b[0;32m      7\u001b[0m \u001b[0mdemograph_2023\u001b[0m\u001b[1;33m.\u001b[0m\u001b[0mshow\u001b[0m\u001b[1;33m(\u001b[0m\u001b[1;33m)\u001b[0m\u001b[1;33m\u001b[0m\u001b[1;33m\u001b[0m\u001b[0m\n",
      "\u001b[1;32m~\\anaconda3\\lib\\site-packages\\pandas\\core\\generic.py\u001b[0m in \u001b[0;36m?\u001b[1;34m(self, name)\u001b[0m\n\u001b[0;32m   6200\u001b[0m             \u001b[1;32mand\u001b[0m \u001b[0mname\u001b[0m \u001b[1;32mnot\u001b[0m \u001b[1;32min\u001b[0m \u001b[0mself\u001b[0m\u001b[1;33m.\u001b[0m\u001b[0m_accessors\u001b[0m\u001b[1;33m\u001b[0m\u001b[1;33m\u001b[0m\u001b[0m\n\u001b[0;32m   6201\u001b[0m             \u001b[1;32mand\u001b[0m \u001b[0mself\u001b[0m\u001b[1;33m.\u001b[0m\u001b[0m_info_axis\u001b[0m\u001b[1;33m.\u001b[0m\u001b[0m_can_hold_identifiers_and_holds_name\u001b[0m\u001b[1;33m(\u001b[0m\u001b[0mname\u001b[0m\u001b[1;33m)\u001b[0m\u001b[1;33m\u001b[0m\u001b[1;33m\u001b[0m\u001b[0m\n\u001b[0;32m   6202\u001b[0m         ):\n\u001b[0;32m   6203\u001b[0m             \u001b[1;32mreturn\u001b[0m \u001b[0mself\u001b[0m\u001b[1;33m[\u001b[0m\u001b[0mname\u001b[0m\u001b[1;33m]\u001b[0m\u001b[1;33m\u001b[0m\u001b[1;33m\u001b[0m\u001b[0m\n\u001b[1;32m-> 6204\u001b[1;33m         \u001b[1;32mreturn\u001b[0m \u001b[0mobject\u001b[0m\u001b[1;33m.\u001b[0m\u001b[0m__getattribute__\u001b[0m\u001b[1;33m(\u001b[0m\u001b[0mself\u001b[0m\u001b[1;33m,\u001b[0m \u001b[0mname\u001b[0m\u001b[1;33m)\u001b[0m\u001b[1;33m\u001b[0m\u001b[1;33m\u001b[0m\u001b[0m\n\u001b[0m",
      "\u001b[1;31mAttributeError\u001b[0m: 'DataFrame' object has no attribute 'show'"
     ]
    }
   ],
   "source": [
    "# anime_df_2023['demographics'].\n",
    "demograph_2023 = pd.pivot_table(anime_df_2023, values = 'score', index = 'id', columns = 'demographics').reset_index()\n",
    "dem_column_list = list(demograph_2023.columns)\n",
    "print(demograph_2023.head(3))\n",
    "# sta.trim_mean(demograph_2023[dem_column_list],0.05)\n",
    "# sta.trim_mean(demograph_2023['Josei'],0.1)"
   ]
  }
 ],
 "metadata": {
  "kernelspec": {
   "display_name": "Python 3 (ipykernel)",
   "language": "python",
   "name": "python3"
  },
  "language_info": {
   "codemirror_mode": {
    "name": "ipython",
    "version": 3
   },
   "file_extension": ".py",
   "mimetype": "text/x-python",
   "name": "python",
   "nbconvert_exporter": "python",
   "pygments_lexer": "ipython3",
   "version": "3.9.18"
  }
 },
 "nbformat": 4,
 "nbformat_minor": 5
}
