{
 "cells": [
  {
   "cell_type": "code",
   "execution_count": 1,
   "id": "125e8da3",
   "metadata": {},
   "outputs": [],
   "source": [
    "import pandas as pd\n",
    "import math as mt\n",
    "import seaborn as sns\n",
    "import numpy as np\n",
    "import datetime as dt\n",
    "import random\n",
    "import matplotlib.pyplot as plt\n",
    "from scipy import stats as sta\n",
    "# import streamlit as st"
   ]
  },
  {
   "cell_type": "code",
   "execution_count": 38,
   "id": "8693d097",
   "metadata": {},
   "outputs": [],
   "source": [
    "anime = pd.read_csv(r\"C:\\Users\\Ade\\Desktop\\Personal\\Python\\ProjectPortfolio\\animedashboard\\animefile202409232208.csv\")\n",
    "anime_df = pd.DataFrame(anime)\n",
    "# print(anime_df.head(5)) "
   ]
  },
  {
   "cell_type": "code",
   "execution_count": 56,
   "id": "7f9ad2e4",
   "metadata": {},
   "outputs": [
    {
     "name": "stdout",
     "output_type": "stream",
     "text": [
      "   Unnamed: 0     id                                        name  season  \\\n",
      "0           0  52991                           Sousou no Frieren    fall   \n",
      "1           1  41467                   Bleach: Sennen Kessen-hen    fall   \n",
      "2           2  43608  Kaguya-sama wa Kokurasetai: Ultra Romantic  spring   \n",
      "3           3  42938                    Fruits Basket: The Final  spring   \n",
      "4           4  54492                      Kusuriya no Hitorigoto    fall   \n",
      "\n",
      "   score  year                                               link  \\\n",
      "0   9.33  2023  https://myanimelist.net/anime/52991/Sousou_no_...   \n",
      "1   9.01  2022  https://myanimelist.net/anime/41467/Bleach__Se...   \n",
      "2   9.00  2022  https://myanimelist.net/anime/43608/Kaguya-sam...   \n",
      "3   8.97  2021  https://myanimelist.net/anime/42938/Fruits_Bas...   \n",
      "4   8.89  2023  https://myanimelist.net/anime/54492/Kusuriya_n...   \n",
      "\n",
      "                                               image  \\\n",
      "0  https://cdn.myanimelist.net/images/anime/1015/...   \n",
      "1  https://cdn.myanimelist.net/images/anime/1908/...   \n",
      "2  https://cdn.myanimelist.net/images/anime/1160/...   \n",
      "3  https://cdn.myanimelist.net/images/anime/1085/...   \n",
      "4  https://cdn.myanimelist.net/images/anime/1708/...   \n",
      "\n",
      "                          genre  \\\n",
      "0     Adventure, Drama, Fantasy   \n",
      "1    Action, Adventure, Fantasy   \n",
      "2               Comedy, Romance   \n",
      "3  Drama, Romance, Supernatural   \n",
      "4                Drama, Mystery   \n",
      "\n",
      "                                           producers  ...  \\\n",
      "0  Aniplex, Dentsu, Shogakukan-Shueisha Productio...  ...   \n",
      "1                TV Tokyo, Aniplex, Dentsu, Shueisha  ...   \n",
      "2  Aniplex, Mainichi Broadcasting System, Magic C...  ...   \n",
      "3  TV Tokyo, TV Osaka, Nihon Ad Systems, Hakusens...  ...   \n",
      "4  Dentsu, Square Enix, Nippon Television Network...  ...   \n",
      "\n",
      "                    end_date                    studios       source  \\\n",
      "0  2024-03-22T00:00:00+00:00                   Madhouse        Manga   \n",
      "1  2022-12-27T00:00:00+00:00                    Pierrot        Manga   \n",
      "2  2022-06-25T00:00:00+00:00               A-1 Pictures        Manga   \n",
      "3  2021-06-29T00:00:00+00:00          TMS Entertainment        Manga   \n",
      "4  2024-03-24T00:00:00+00:00  OLM,TOHO animation STUDIO  Light novel   \n",
      "\n",
      "                themes       duration rank popularity  favorites  \\\n",
      "0                  NaN  24 min per ep    1        199      52483   \n",
      "1                  NaN  24 min per ep   12        388      21081   \n",
      "2               School  23 min per ep   13        171      31677   \n",
      "3                  NaN  23 min per ep   15        467      20362   \n",
      "4  Historical, Medical  22 min per ep   22        486      13254   \n",
      "\n",
      "   demographics   groupings  \n",
      "0       Shounen  Not Seinen  \n",
      "1       Shounen  Not Seinen  \n",
      "2        Seinen      Seinen  \n",
      "3        Shoujo  Not Seinen  \n",
      "4           NaN  Not Seinen  \n",
      "\n",
      "[5 rows x 22 columns]\n"
     ]
    }
   ],
   "source": [
    "conditions = [(anime_df['demographics'] == 'Seinen'), (anime_df['demographics'] != 'Seinen')]\n",
    "values = ['Seinen', 'Not Seinen']\n",
    "anime_df['groupings'] = np.select(conditions,values)\n",
    "print(anime_df.head(5)) "
   ]
  },
  {
   "cell_type": "code",
   "execution_count": 41,
   "id": "7080a3eb",
   "metadata": {},
   "outputs": [
    {
     "name": "stdout",
     "output_type": "stream",
     "text": [
      "        id                                            name  score   groupings  \\\n",
      "0    52991                               Sousou no Frieren   9.33  Not Seinen   \n",
      "1    41467                       Bleach: Sennen Kessen-hen   9.01  Not Seinen   \n",
      "2    43608      Kaguya-sama wa Kokurasetai: Ultra Romantic   9.00      Seinen   \n",
      "3    42938                        Fruits Basket: The Final   8.97  Not Seinen   \n",
      "4    54492                          Kusuriya no Hitorigoto   8.89  Not Seinen   \n",
      "..     ...                                             ...    ...         ...   \n",
      "885  53674     Xiongmao Yangyang He Xiao Huoban 2nd Season   0.00  Not Seinen   \n",
      "886  57701  Bai Bian Xiao Ba: Chao Xue Xianfeng 3nd Season   0.00  Not Seinen   \n",
      "887  57710  Bai Bian Xiao Ba: Chao Xue Xianfeng 4nd Season   0.00  Not Seinen   \n",
      "888  57752                     Bai Bian Xiao Ba 7th Season   0.00  Not Seinen   \n",
      "889  57765                     Bai Bian Xiao Ba 8th Season   0.00  Not Seinen   \n",
      "\n",
      "     popularity  favorites       duration  \n",
      "0           199      52483  24 min per ep  \n",
      "1           388      21081  24 min per ep  \n",
      "2           171      31677  23 min per ep  \n",
      "3           467      20362  23 min per ep  \n",
      "4           486      13254  22 min per ep  \n",
      "..          ...        ...            ...  \n",
      "885       26161          0  13 min per ep  \n",
      "886       26636          0  15 min per ep  \n",
      "887       26672          0  15 min per ep  \n",
      "888       26680          0  13 min per ep  \n",
      "889       26820          0  13 min per ep  \n",
      "\n",
      "[890 rows x 7 columns]\n"
     ]
    }
   ],
   "source": [
    "# aggreggate data to segments of interest\n",
    "metrics_df = anime_df[['id','name','score','groupings','popularity','favorites','duration']].copy()\n",
    "metrics_df = metrics_df[metrics_df['popularity'] > 0]\n",
    "anime_df2 = anime_df[anime_df['popularity'] > 0]\n",
    "print(metrics_df)"
   ]
  },
  {
   "cell_type": "code",
   "execution_count": 49,
   "id": "b4361f55",
   "metadata": {},
   "outputs": [
    {
     "name": "stdout",
     "output_type": "stream",
     "text": [
      "2955.6697977021495\n",
      "61 829\n"
     ]
    }
   ],
   "source": [
    "# segment dataset into relevant groups\n",
    "\n",
    "metrics_dfa = metrics_df[metrics_df[\"groupings\"] == 'Seinen']\n",
    "metrics_dfb = metrics_df[metrics_df[\"groupings\"] == 'Not Seinen']\n",
    "\n",
    "a = metrics_dfa['popularity'].mean()\n",
    "b = metrics_dfb['popularity'].mean()\n",
    "c = anime_df2['popularity'].mean()\n",
    "\n",
    "print(b-a)\n",
    "\n",
    "nA = metrics_dfa.shape[0]\n",
    "nB = metrics_dfb.shape[0]\n",
    "\n",
    "print(nA,nB)"
   ]
  },
  {
   "cell_type": "code",
   "execution_count": 50,
   "id": "ba56f5a2",
   "metadata": {},
   "outputs": [],
   "source": [
    "# create function to iterate through combinates of average differences\n",
    "def perm_fun(x, nA, nB):\n",
    "    n = nA + nB\n",
    "    idx_B = set(random.sample(range(n), nB))\n",
    "    idx_A = set(range(n)) - idx_B\n",
    "    return x.iloc[list(idx_B)].mean() - x.iloc[list(idx_A)].mean()"
   ]
  },
  {
   "cell_type": "code",
   "execution_count": 51,
   "id": "b34f5431",
   "metadata": {},
   "outputs": [
    {
     "name": "stdout",
     "output_type": "stream",
     "text": [
      "-636.3616840356744\n",
      "2955.6697977021495\n"
     ]
    }
   ],
   "source": [
    "# identify different permutations of average differences with respect to dataframe shape\n",
    "\n",
    "R = 5000\n",
    "\n",
    "metrics_df = metrics_df.reset_index(drop=True) \n",
    "perm_diff = perm_fun(metrics_df.get('popularity'), nA, nB)\n",
    "perm_diffs = [100 * perm_fun(metrics_df['popularity'], nA, nB) for x in range(R)]\n",
    "\n",
    "print(perm_diff)\n",
    "print (b - a)"
   ]
  },
  {
   "cell_type": "code",
   "execution_count": 52,
   "id": "eabe5f2b",
   "metadata": {},
   "outputs": [
    {
     "name": "stdout",
     "output_type": "stream",
     "text": [
      "0.4902\n",
      "2955.6697977021495\n"
     ]
    }
   ],
   "source": [
    "# identify iterated differences greater than identified difference between average of both segments\n",
    "\n",
    "perm_diffs = np.array(perm_diffs)\n",
    "print(np.mean(perm_diffs > b - a))\n",
    "dif = b-a\n",
    "print(dif)"
   ]
  },
  {
   "cell_type": "code",
   "execution_count": 53,
   "id": "a83adb72",
   "metadata": {},
   "outputs": [
    {
     "data": {
      "text/plain": [
       "0.514"
      ]
     },
     "execution_count": 53,
     "metadata": {},
     "output_type": "execute_result"
    },
    {
     "data": {
      "image/png": "[encoded data removed]",
      "text/plain": [
       "<Figure size 640x480 with 1 Axes>"
      ]
     },
     "metadata": {},
     "output_type": "display_data"
    }
   ],
   "source": [
    "# visualise using histogram occurnce of segment difference being due to chance\n",
    "plt.hist(perm_diffs, bins=15)\n",
    "plt.axvline(dif, color='black', lw=2)\n",
    "plt.text(dif, 200, 'Observed\\ndifference',bbox={'facecolor':'white'})\n",
    "plt.xlabel('score')\n",
    "plt.ylabel('Frequency')\n",
    "\n",
    "np.mean(np.array(perm_diffs) > a - b)"
   ]
  },
  {
   "cell_type": "code",
   "execution_count": 60,
   "id": "30aa5ef8",
   "metadata": {},
   "outputs": [
    {
     "data": {
      "text/plain": [
       "<Axes: >"
      ]
     },
     "execution_count": 60,
     "metadata": {},
     "output_type": "execute_result"
    },
    {
     "data": {
      "image/png": "[encoded data removed]",
      "text/plain": [
       "<Figure size 640x480 with 2 Axes>"
      ]
     },
     "metadata": {},
     "output_type": "display_data"
    }
   ],
   "source": [
    "sns.heatmap(metrics_df[['score','popularity','favorites']].corr())"
   ]
  },
  {
   "cell_type": "code",
   "execution_count": null,
   "id": "fe05bdeb",
   "metadata": {},
   "outputs": [],
   "source": [
    "print('profit')"
   ]
  }
 ],
 "metadata": {
  "kernelspec": {
   "display_name": "Python 3 (ipykernel)",
   "language": "python",
   "name": "python3"
  },
  "language_info": {
   "codemirror_mode": {
    "name": "ipython",
    "version": 3
   },
   "file_extension": ".py",
   "mimetype": "text/x-python",
   "name": "python",
   "nbconvert_exporter": "python",
   "pygments_lexer": "ipython3",
   "version": "3.9.18"
  }
 },
 "nbformat": 4,
 "nbformat_minor": 5
}
